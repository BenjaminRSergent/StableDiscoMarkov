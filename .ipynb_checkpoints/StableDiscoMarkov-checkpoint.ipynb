{
 "cells": [
  {
   "cell_type": "code",
   "execution_count": 13,
   "id": "0adcb558",
   "metadata": {},
   "outputs": [
    {
     "name": "stdout",
     "output_type": "stream",
     "text": [
      "Requirement already satisfied: markovify in c:\\users\\benja\\anaconda3\\lib\\site-packages (0.9.4)\n",
      "Requirement already satisfied: pytz in c:\\users\\benja\\anaconda3\\lib\\site-packages (2020.1)\n",
      "Requirement already satisfied: unidecode in c:\\users\\benja\\anaconda3\\lib\\site-packages (from markovify) (1.3.4)\n"
     ]
    }
   ],
   "source": [
    "!pip install markovify pytz numpy"
   ]
  },
  {
   "cell_type": "code",
   "execution_count": 86,
   "id": "a37f31a1",
   "metadata": {},
   "outputs": [
    {
     "ename": "DefaultCredentialsError",
     "evalue": "Could not automatically determine credentials. Please set GOOGLE_APPLICATION_CREDENTIALS or explicitly create credentials and re-run the application. For more information, please see https://cloud.google.com/docs/authentication/getting-started",
     "output_type": "error",
     "traceback": [
      "\u001b[1;31m---------------------------------------------------------------------------\u001b[0m",
      "\u001b[1;31mDefaultCredentialsError\u001b[0m                   Traceback (most recent call last)",
      "Input \u001b[1;32mIn [86]\u001b[0m, in \u001b[0;36m<cell line: 3>\u001b[1;34m()\u001b[0m\n\u001b[0;32m      1\u001b[0m \u001b[38;5;28;01mfrom\u001b[39;00m \u001b[38;5;21;01mapiclient\u001b[39;00m\u001b[38;5;21;01m.\u001b[39;00m\u001b[38;5;21;01mhttp\u001b[39;00m \u001b[38;5;28;01mimport\u001b[39;00m MediaIoBaseDownload\n\u001b[0;32m      2\u001b[0m \u001b[38;5;28;01mfrom\u001b[39;00m \u001b[38;5;21;01mgoogleapiclient\u001b[39;00m\u001b[38;5;21;01m.\u001b[39;00m\u001b[38;5;21;01mdiscovery\u001b[39;00m \u001b[38;5;28;01mimport\u001b[39;00m build\n\u001b[1;32m----> 3\u001b[0m gcs_service \u001b[38;5;241m=\u001b[39m \u001b[43mbuild\u001b[49m\u001b[43m(\u001b[49m\u001b[38;5;124;43m'\u001b[39;49m\u001b[38;5;124;43mstorage\u001b[39;49m\u001b[38;5;124;43m'\u001b[39;49m\u001b[43m,\u001b[49m\u001b[43m \u001b[49m\u001b[38;5;124;43m'\u001b[39;49m\u001b[38;5;124;43mv1\u001b[39;49m\u001b[38;5;124;43m'\u001b[39;49m\u001b[43m)\u001b[49m\n\u001b[0;32m      5\u001b[0m \u001b[38;5;28;01mwith\u001b[39;00m \u001b[38;5;28mopen\u001b[39m(\u001b[38;5;124m'\u001b[39m\u001b[38;5;124mtest\u001b[39m\u001b[38;5;124m'\u001b[39m, \u001b[38;5;124m'\u001b[39m\u001b[38;5;124mwb\u001b[39m\u001b[38;5;124m'\u001b[39m) \u001b[38;5;28;01mas\u001b[39;00m f:\n\u001b[0;32m      6\u001b[0m   request \u001b[38;5;241m=\u001b[39m gcs_service\u001b[38;5;241m.\u001b[39mobjects()\u001b[38;5;241m.\u001b[39mget_media(bucket\u001b[38;5;241m=\u001b[39m\u001b[38;5;124m\"\u001b[39m\u001b[38;5;124mstable-disco-markob\u001b[39m\u001b[38;5;124m\"\u001b[39m,\n\u001b[0;32m      7\u001b[0m                                             \u001b[38;5;28mobject\u001b[39m\u001b[38;5;241m=\u001b[39m\u001b[38;5;124m'\u001b[39m\u001b[38;5;124mutils.py\u001b[39m\u001b[38;5;124m'\u001b[39m)\n",
      "File \u001b[1;32mc:\\users\\benja\\anaconda3\\lib\\site-packages\\googleapiclient\\_helpers.py:130\u001b[0m, in \u001b[0;36mpositional.<locals>.positional_decorator.<locals>.positional_wrapper\u001b[1;34m(*args, **kwargs)\u001b[0m\n\u001b[0;32m    128\u001b[0m     \u001b[38;5;28;01melif\u001b[39;00m positional_parameters_enforcement \u001b[38;5;241m==\u001b[39m POSITIONAL_WARNING:\n\u001b[0;32m    129\u001b[0m         logger\u001b[38;5;241m.\u001b[39mwarning(message)\n\u001b[1;32m--> 130\u001b[0m \u001b[38;5;28;01mreturn\u001b[39;00m \u001b[43mwrapped\u001b[49m\u001b[43m(\u001b[49m\u001b[38;5;241;43m*\u001b[39;49m\u001b[43margs\u001b[49m\u001b[43m,\u001b[49m\u001b[43m \u001b[49m\u001b[38;5;241;43m*\u001b[39;49m\u001b[38;5;241;43m*\u001b[39;49m\u001b[43mkwargs\u001b[49m\u001b[43m)\u001b[49m\n",
      "File \u001b[1;32mc:\\users\\benja\\anaconda3\\lib\\site-packages\\googleapiclient\\discovery.py:298\u001b[0m, in \u001b[0;36mbuild\u001b[1;34m(serviceName, version, http, discoveryServiceUrl, developerKey, model, requestBuilder, credentials, cache_discovery, cache, client_options, adc_cert_path, adc_key_path, num_retries, static_discovery, always_use_jwt_access)\u001b[0m\n\u001b[0;32m    286\u001b[0m \u001b[38;5;28;01mtry\u001b[39;00m:\n\u001b[0;32m    287\u001b[0m     content \u001b[38;5;241m=\u001b[39m _retrieve_discovery_doc(\n\u001b[0;32m    288\u001b[0m         requested_url,\n\u001b[0;32m    289\u001b[0m         discovery_http,\n\u001b[1;32m   (...)\u001b[0m\n\u001b[0;32m    296\u001b[0m         static_discovery\u001b[38;5;241m=\u001b[39mstatic_discovery,\n\u001b[0;32m    297\u001b[0m     )\n\u001b[1;32m--> 298\u001b[0m     service \u001b[38;5;241m=\u001b[39m \u001b[43mbuild_from_document\u001b[49m\u001b[43m(\u001b[49m\n\u001b[0;32m    299\u001b[0m \u001b[43m        \u001b[49m\u001b[43mcontent\u001b[49m\u001b[43m,\u001b[49m\n\u001b[0;32m    300\u001b[0m \u001b[43m        \u001b[49m\u001b[43mbase\u001b[49m\u001b[38;5;241;43m=\u001b[39;49m\u001b[43mdiscovery_url\u001b[49m\u001b[43m,\u001b[49m\n\u001b[0;32m    301\u001b[0m \u001b[43m        \u001b[49m\u001b[43mhttp\u001b[49m\u001b[38;5;241;43m=\u001b[39;49m\u001b[43mhttp\u001b[49m\u001b[43m,\u001b[49m\n\u001b[0;32m    302\u001b[0m \u001b[43m        \u001b[49m\u001b[43mdeveloperKey\u001b[49m\u001b[38;5;241;43m=\u001b[39;49m\u001b[43mdeveloperKey\u001b[49m\u001b[43m,\u001b[49m\n\u001b[0;32m    303\u001b[0m \u001b[43m        \u001b[49m\u001b[43mmodel\u001b[49m\u001b[38;5;241;43m=\u001b[39;49m\u001b[43mmodel\u001b[49m\u001b[43m,\u001b[49m\n\u001b[0;32m    304\u001b[0m \u001b[43m        \u001b[49m\u001b[43mrequestBuilder\u001b[49m\u001b[38;5;241;43m=\u001b[39;49m\u001b[43mrequestBuilder\u001b[49m\u001b[43m,\u001b[49m\n\u001b[0;32m    305\u001b[0m \u001b[43m        \u001b[49m\u001b[43mcredentials\u001b[49m\u001b[38;5;241;43m=\u001b[39;49m\u001b[43mcredentials\u001b[49m\u001b[43m,\u001b[49m\n\u001b[0;32m    306\u001b[0m \u001b[43m        \u001b[49m\u001b[43mclient_options\u001b[49m\u001b[38;5;241;43m=\u001b[39;49m\u001b[43mclient_options\u001b[49m\u001b[43m,\u001b[49m\n\u001b[0;32m    307\u001b[0m \u001b[43m        \u001b[49m\u001b[43madc_cert_path\u001b[49m\u001b[38;5;241;43m=\u001b[39;49m\u001b[43madc_cert_path\u001b[49m\u001b[43m,\u001b[49m\n\u001b[0;32m    308\u001b[0m \u001b[43m        \u001b[49m\u001b[43madc_key_path\u001b[49m\u001b[38;5;241;43m=\u001b[39;49m\u001b[43madc_key_path\u001b[49m\u001b[43m,\u001b[49m\n\u001b[0;32m    309\u001b[0m \u001b[43m        \u001b[49m\u001b[43malways_use_jwt_access\u001b[49m\u001b[38;5;241;43m=\u001b[39;49m\u001b[43malways_use_jwt_access\u001b[49m\u001b[43m,\u001b[49m\n\u001b[0;32m    310\u001b[0m \u001b[43m    \u001b[49m\u001b[43m)\u001b[49m\n\u001b[0;32m    311\u001b[0m     \u001b[38;5;28;01mbreak\u001b[39;00m  \u001b[38;5;66;03m# exit if a service was created\u001b[39;00m\n\u001b[0;32m    312\u001b[0m \u001b[38;5;28;01mexcept\u001b[39;00m HttpError \u001b[38;5;28;01mas\u001b[39;00m e:\n",
      "File \u001b[1;32mc:\\users\\benja\\anaconda3\\lib\\site-packages\\googleapiclient\\_helpers.py:130\u001b[0m, in \u001b[0;36mpositional.<locals>.positional_decorator.<locals>.positional_wrapper\u001b[1;34m(*args, **kwargs)\u001b[0m\n\u001b[0;32m    128\u001b[0m     \u001b[38;5;28;01melif\u001b[39;00m positional_parameters_enforcement \u001b[38;5;241m==\u001b[39m POSITIONAL_WARNING:\n\u001b[0;32m    129\u001b[0m         logger\u001b[38;5;241m.\u001b[39mwarning(message)\n\u001b[1;32m--> 130\u001b[0m \u001b[38;5;28;01mreturn\u001b[39;00m \u001b[43mwrapped\u001b[49m\u001b[43m(\u001b[49m\u001b[38;5;241;43m*\u001b[39;49m\u001b[43margs\u001b[49m\u001b[43m,\u001b[49m\u001b[43m \u001b[49m\u001b[38;5;241;43m*\u001b[39;49m\u001b[38;5;241;43m*\u001b[39;49m\u001b[43mkwargs\u001b[49m\u001b[43m)\u001b[49m\n",
      "File \u001b[1;32mc:\\users\\benja\\anaconda3\\lib\\site-packages\\googleapiclient\\discovery.py:580\u001b[0m, in \u001b[0;36mbuild_from_document\u001b[1;34m(service, base, future, http, developerKey, model, requestBuilder, credentials, client_options, adc_cert_path, adc_key_path, always_use_jwt_access)\u001b[0m\n\u001b[0;32m    577\u001b[0m \u001b[38;5;66;03m# If the user didn't pass in credentials, attempt to acquire application\u001b[39;00m\n\u001b[0;32m    578\u001b[0m \u001b[38;5;66;03m# default credentials.\u001b[39;00m\n\u001b[0;32m    579\u001b[0m \u001b[38;5;28;01mif\u001b[39;00m credentials \u001b[38;5;129;01mis\u001b[39;00m \u001b[38;5;28;01mNone\u001b[39;00m:\n\u001b[1;32m--> 580\u001b[0m     credentials \u001b[38;5;241m=\u001b[39m \u001b[43m_auth\u001b[49m\u001b[38;5;241;43m.\u001b[39;49m\u001b[43mdefault_credentials\u001b[49m\u001b[43m(\u001b[49m\n\u001b[0;32m    581\u001b[0m \u001b[43m        \u001b[49m\u001b[43mscopes\u001b[49m\u001b[38;5;241;43m=\u001b[39;49m\u001b[43mclient_options\u001b[49m\u001b[38;5;241;43m.\u001b[39;49m\u001b[43mscopes\u001b[49m\u001b[43m,\u001b[49m\n\u001b[0;32m    582\u001b[0m \u001b[43m        \u001b[49m\u001b[43mquota_project_id\u001b[49m\u001b[38;5;241;43m=\u001b[39;49m\u001b[43mclient_options\u001b[49m\u001b[38;5;241;43m.\u001b[39;49m\u001b[43mquota_project_id\u001b[49m\u001b[43m,\u001b[49m\n\u001b[0;32m    583\u001b[0m \u001b[43m    \u001b[49m\u001b[43m)\u001b[49m\n\u001b[0;32m    585\u001b[0m \u001b[38;5;66;03m# The credentials need to be scoped.\u001b[39;00m\n\u001b[0;32m    586\u001b[0m \u001b[38;5;66;03m# If the user provided scopes via client_options don't override them\u001b[39;00m\n\u001b[0;32m    587\u001b[0m \u001b[38;5;28;01mif\u001b[39;00m \u001b[38;5;129;01mnot\u001b[39;00m client_options\u001b[38;5;241m.\u001b[39mscopes:\n",
      "File \u001b[1;32mc:\\users\\benja\\anaconda3\\lib\\site-packages\\googleapiclient\\_auth.py:57\u001b[0m, in \u001b[0;36mdefault_credentials\u001b[1;34m(scopes, quota_project_id)\u001b[0m\n\u001b[0;32m     55\u001b[0m \u001b[38;5;124;03m\"\"\"Returns Application Default Credentials.\"\"\"\u001b[39;00m\n\u001b[0;32m     56\u001b[0m \u001b[38;5;28;01mif\u001b[39;00m HAS_GOOGLE_AUTH:\n\u001b[1;32m---> 57\u001b[0m     credentials, _ \u001b[38;5;241m=\u001b[39m \u001b[43mgoogle\u001b[49m\u001b[38;5;241;43m.\u001b[39;49m\u001b[43mauth\u001b[49m\u001b[38;5;241;43m.\u001b[39;49m\u001b[43mdefault\u001b[49m\u001b[43m(\u001b[49m\n\u001b[0;32m     58\u001b[0m \u001b[43m        \u001b[49m\u001b[43mscopes\u001b[49m\u001b[38;5;241;43m=\u001b[39;49m\u001b[43mscopes\u001b[49m\u001b[43m,\u001b[49m\u001b[43m \u001b[49m\u001b[43mquota_project_id\u001b[49m\u001b[38;5;241;43m=\u001b[39;49m\u001b[43mquota_project_id\u001b[49m\n\u001b[0;32m     59\u001b[0m \u001b[43m    \u001b[49m\u001b[43m)\u001b[49m\n\u001b[0;32m     60\u001b[0m     \u001b[38;5;28;01mreturn\u001b[39;00m credentials\n\u001b[0;32m     61\u001b[0m \u001b[38;5;28;01melif\u001b[39;00m HAS_OAUTH2CLIENT:\n",
      "File \u001b[1;32mc:\\users\\benja\\anaconda3\\lib\\site-packages\\google\\auth\\_default.py:616\u001b[0m, in \u001b[0;36mdefault\u001b[1;34m(scopes, request, quota_project_id, default_scopes)\u001b[0m\n\u001b[0;32m    608\u001b[0m             _LOGGER\u001b[38;5;241m.\u001b[39mwarning(\n\u001b[0;32m    609\u001b[0m                 \u001b[38;5;124m\"\u001b[39m\u001b[38;5;124mNo project ID could be determined. Consider running \u001b[39m\u001b[38;5;124m\"\u001b[39m\n\u001b[0;32m    610\u001b[0m                 \u001b[38;5;124m\"\u001b[39m\u001b[38;5;124m`gcloud config set project` or setting the \u001b[39m\u001b[38;5;132;01m%s\u001b[39;00m\u001b[38;5;124m \u001b[39m\u001b[38;5;124m\"\u001b[39m\n\u001b[0;32m    611\u001b[0m                 \u001b[38;5;124m\"\u001b[39m\u001b[38;5;124menvironment variable\u001b[39m\u001b[38;5;124m\"\u001b[39m,\n\u001b[0;32m    612\u001b[0m                 environment_vars\u001b[38;5;241m.\u001b[39mPROJECT,\n\u001b[0;32m    613\u001b[0m             )\n\u001b[0;32m    614\u001b[0m         \u001b[38;5;28;01mreturn\u001b[39;00m credentials, effective_project_id\n\u001b[1;32m--> 616\u001b[0m \u001b[38;5;28;01mraise\u001b[39;00m exceptions\u001b[38;5;241m.\u001b[39mDefaultCredentialsError(_HELP_MESSAGE)\n",
      "\u001b[1;31mDefaultCredentialsError\u001b[0m: Could not automatically determine credentials. Please set GOOGLE_APPLICATION_CREDENTIALS or explicitly create credentials and re-run the application. For more information, please see https://cloud.google.com/docs/authentication/getting-started"
     ]
    }
   ],
   "source": [
    "from apiclient.http import MediaIoBaseDownload\n",
    "from googleapiclient.discovery import build\n",
    "gcs_service = build('storage', 'v1')\n",
    "\n",
    "with open('test', 'wb') as f:\n",
    "  request = gcs_service.objects().get_media(bucket=\"stable-disco-markob\",\n",
    "                                            object='utils.py')\n",
    "  media = MediaIoBaseDownload(f, request)\n",
    "\n",
    "  done = False\n",
    "  while not done:\n",
    "    # _ is a placeholder for a progress object that we ignore.\n",
    "    # (Our file is small, so we skip reporting progress.)\n",
    "    _, done = media.next_chunk()\n",
    "\n",
    "print('Download complete')"
   ]
  },
  {
   "cell_type": "code",
   "execution_count": 80,
   "id": "c922f590",
   "metadata": {},
   "outputs": [],
   "source": [
    "from typing import Dict, List\n",
    "\n",
    "import markovify\n",
    "\n",
    "import prompts\n",
    "import utils\n",
    "\n",
    "# List of all unique prompts from July 5th to the morning of August 5th\n",
    "dream_prompts: List[str] = utils.load_data_file(\"dream_prompts.pkl\") \n",
    "    \n",
    "# Markov models trained on the above\n",
    "full_markov_model: markovify.Text = utils.load_data_file(\"markov.pkl\")\n",
    "    \n",
    "# The reverse markov model predicts prompts backwards. \n",
    "# Making the forward and reverse models aboth create a sentences with a specific word allows joining them\n",
    "# to make sentences that have that word in the middle. Otherwise one can only make sentences starting with the word\n",
    "rev_full_markov_model: markovify.Text = utils.load_data_file(\"rev_markov.pkl\")\n",
    "    \n",
    "# The dict's keys are arguments eg: \"--width\". The values are other dicts.\n",
    "# The sub-dictionaries map the values it's parent argument may take to the number of times those values were used\n",
    "arg_val_cnt: Dict[str, Dict[str, int]] = utils.load_data_file(\"arg_val_cnt.pkl\")\n",
    "arg_selector = prompts.ArgSelector(arg_val_cnt, len(dream_prompts))        \n",
    "\n",
    "# A dictora\n",
    "prompts_by_user: Dict[str, List[prompts.UserPrompt]] = utils.load_data_file(\"prompts_by_user.pkl\")\n",
    "    \n",
    "username_to_models = {}"
   ]
  },
  {
   "cell_type": "code",
   "execution_count": 72,
   "id": "f660acc8",
   "metadata": {},
   "outputs": [],
   "source": []
  },
  {
   "cell_type": "code",
   "execution_count": 76,
   "id": "1f91c4a5",
   "metadata": {},
   "outputs": [],
   "source": [
    "def get_markov_models(user):\n",
    "    if user is None:\n",
    "        return full_markov_model, rev_full_markov_model\n",
    "    else:\n",
    "        if user not in prompts_by_user:\n",
    "            raise Exception(f\"Not prompts exist for {user}\")\n",
    "        if user not in username_to_models:\n",
    "            user_prompt_text = utils.remove_none_and_dups([user_prompt.prompt for user_prompt in prompts_by_user[user]])\n",
    "            username_to_models[user] = markov.get_markov_models(user_prompt_text)\n",
    "        return username_to_models[user]\n",
    "    \n",
    "def print_spaced(sents):\n",
    "    print(\"\\n\\n\".join(sents))"
   ]
  },
  {
   "cell_type": "code",
   "execution_count": 88,
   "id": "c151d333",
   "metadata": {},
   "outputs": [
    {
     "name": "stdout",
     "output_type": "stream",
     "text": [
      "eerie painting of a horrific alligator Shark hybrid charging the camera featured in national geographic, Asher Brown Durand, thomas cole --height 768 --width 1024 --steps 120 --cfg_scale 22 --sampler k_lms --seed 2 --step 50\n",
      "\n",
      "closeup photograph of an incredible upper back tattoo of a dungeons and dragons featured in national geographic, Asher Brown Durand, thomas cole --height 576 --width 704 --steps 150 --cfg_scale 12 --sampler k_dpm_2_ancestral --seed 4186626796 --step 150\n",
      "\n",
      "A 2010s portrait photograph of a cyborg dragon slayer gorgeous east asian girl head fighting enemies while wearing full plate armor in the mountains wearing leather armor, 35mm film, moody cinematic lighting --height 512 --width 768 --steps 150 --cfg_scale 7 --sampler ddim --seed 3070512843 --step 150 --h 1024 --w 1920\n",
      "\n",
      "beautiful ultradetailed photograph of a breathtaking geometric arm tattoo, ultrafine precise linework, symmetry, symbolizing balance, order, harmony --height 1024 --width 768 --steps 150 --cfg_scale 7 --sampler k_dpm_2_ancestral --seed 1337 --step 50\n",
      "\n",
      "beautiful ultradetailed photograph of a breathtaking abstract geometric arm tattoo, ultrafine precise linework, symmetry, symbolizing balance, order, harmony --height 768 --width 768 --steps 150 --cfg_scale 9 --sampler ddim --seed 2982647710 --step 150\n",
      "\n",
      "beautiful ultradetailed distant shot photograph of an owlbear killing deer running through a forest in the rain with lighting, dungeons and dragons featured in national geographic, dungeons and dragons, Asher Brown Durand, thomas cole --height 1024 --width 706 --steps 150 --cfg_scale 10 --sampler ddim --seed 70 --step 150 --w 1920\n",
      "\n",
      "beautiful ultra realistic closeup portrait photograph of a slick female black panther monster with tentacles by kasuke, evangelion --height 512 --width 512 --steps 150 --cfg_scale 13 --sampler ddim --seed 4095026058 --step 150\n",
      "\n",
      "ultra-realistic full body photograph of a breathtaking geometric arm tattoo --height 768 --width 768 --steps 120 --cfg_scale 11 --sampler ddim --seed 1610043699 --step 150\n",
      "\n",
      "of Nicholas cage is jesus in the last supper, everyone at the table has Nicholas Cage face by Leonardo De Vinci --height 768 --width 1024 --steps 150 --cfg_scale 7 --sampler k_dpm_2_ancestral --seed 2905893365 --step 150\n",
      "\n",
      "ultra-realistic photograph portrait of princess Zelda wearing chainmail fighting bandits ambushing her in the forest background Asher Brown Durand, ArtStation --height 768 --width 1024 --steps 150 --cfg_scale 23 --sampler ddim --seed 4186626796 --step 50\n"
     ]
    }
   ],
   "source": [
    "import markov\n",
    "to_generate = 10 #@param {type:\"integer\"}\n",
    "\n",
    "# The max overlap with sentences in training prompts\n",
    "max_overlap = 0.6 #@param {type:\"number\"}\n",
    "\n",
    "# Set this value to make prompts based on a specific user\n",
    "user = \"TwinGodhead\" #@param {type:\"string\"}\n",
    "\n",
    "curr_markov_model, _ = get_markov_models(user)\n",
    "prompts = markov.make_markov_sentences(to_generate, curr_markov_model, arg_selector, max_overlap=max_overlap)\n",
    "print_spaced(prompts)"
   ]
  },
  {
   "cell_type": "code",
   "execution_count": 74,
   "id": "fdbc30d0",
   "metadata": {},
   "outputs": [
    {
     "name": "stdout",
     "output_type": "stream",
     "text": [
      "a weird gross intelligent non-newtonian fluid bioluminescent alien creature from an extremely surrealistic DMT dimension by Jim Henson, quaint candy cottage, claymationphotograph from a center of an empty room with large windows, highly detailed, octane render, unreal engine, redshift, trending on artstation, terrifying atmosphere --height 1024 --width 768 --steps 150 --cfg_scale 10 --sampler k_dpm_2_ancestral --seed 2568911274 --step 150\n",
      "\n",
      "Rick and Morty animated series is beautiful. a very beautiful warpfusion vector logo resembling fusion core in the shape of a kitty,photograph of hydrocephalic mark zuckerberg as a love interest in a romance anime --height 512 --width 768 --steps 150 --cfg_scale 11 --sampler k_dpm_2_ancestral --seed 204525742 --step 50 --h 1024\n",
      "\n",
      "a tweet by donald trump, modern 2022photograph of a hyperrealistic Elmo --height 768 --width 512 --steps 70 --cfg_scale 6 --sampler ddim --seed 204525742 --step 150 --w 1920\n",
      "\n",
      "a cartoon illustration of albert einstein as the speaker of the house, CSPANphotograph of a a leviathan cyborg dragon roaring, by alphonse mucha, rendered in octane, dramatic action pose, --height 500 --width 768 --steps 150 --cfg_scale 6 --sampler k_dpm_2_ancestral --seed 204525742 --step 150\n",
      "\n",
      "a tweet by donald trump, 2022photograph of a a leviathan cyborg dragon roaring, by alphonse mucha, rendered in octane, dramatic action pose, --height 768 --width 1024 --steps 150 --cfg_scale 8 --sampler k_lms --seed 8 --step 50\n",
      "\n",
      "Rick and Morty animated series is beautiful. a very beautiful warpfusion vector logo resembling fusion core in the shape of a kitty,photograph of hydrocephalic mark zuckerberg as a love interest in a romance anime --height 576 --width 1024 --steps 150 --cfg_scale 1 --sampler k_lms --seed 910948301 --step 150\n",
      "\n",
      "a dark evil cat made of Opal,photograph of real life toriel at the beach chilling with his friend Dan --height 768 --width 768 --steps 30 --cfg_scale 12 --sampler k_dpm_2_ancestral --seed 2905893365 --step 150\n",
      "\n",
      "a weird gross intelligent non-newtonian fluid bioluminescent alien creature from an extremely surrealistic DMT dimension by Jim Henson, quaint candy cottage, claymationphotograph from a center of an empty room with large windows, highly detailed, octane render, unreal engine, redshift, trending on artstation, terrifying atmosphere --height 256 --width 512 --steps 70 --cfg_scale 10 --sampler k_DPM_2_Ancestral --seed 1337 --step 150 --cfg 12\n",
      "\n",
      "Last winter in McDonald's, by tom bagshaw, by Zinaida Serebriakova, highly detailed, cinematic lighting, oil on canvas, impossible award winningphotograph of a hyperrealistic Elmo --height 640 --width 768 --steps 150 --cfg_scale 5 --sampler k_lms --seed 4186626796 --step 50 --w 1920\n",
      "\n",
      "closeup portrait of betty boop, by kelly mckernan, by tom bagshaw, by david lynch, oil on canvas, impossible award winningphotograph of a hyperrealistic Elmo --height 768 --width 1024 --steps 150 --cfg_scale 10 --sampler k_lms --seed 4219640802 --step 50\n",
      "\n",
      "Last winter in McDonald's, by tom bagshaw, by Zinaida Serebriakova, highly detailed, cinematic lighting, oil on canvas, impossible award winningphotograph of a cyborg leviathan dragon made of opal made by opal, red --height 768 --width 512 --steps 150 --cfg_scale 6 --sampler ddim --seed 2568911274 --step 150 --w 1920\n",
      "\n",
      "a dark evil cat made of Opal,photograph from a center of a torus covered in eyes, michelangelo, keith thomas, peter mohrbacher, artstation, in the style of discord --height 768 --width 576 --steps 150 --cfg_scale 22 --sampler k_lms --seed 1 --step 150\n",
      "\n",
      "a highly detailed warpfusion vector logo resembling fusion core in the shape of a kitty,photograph of a cyborg leviathan dragon made of opal made by opal, red --height 384 --width 512 --steps 150 --cfg_scale 10 --sampler ddim --seed 1122442211 --step 150\n",
      "\n",
      "a cartoon illustration of albert einstein as the speaker of the house, CSPANphotograph of a spherical actual Jigglypuff in its natural habitat, 200mm, by National Geographic by Marsel van Oosten, 200mm, what Piplup would look like if it were real --height 768 --width 1024 --steps 150 --cfg_scale 7 --sampler ddim --seed 3169479969 --step 150\n",
      "\n",
      "a tweet by donald trump, modern 2022photograph of a breathtaking ocean suset, golden hour, beautiful lighting wow --height 768 --width 512 --steps 120 --cfg_scale 16 --sampler k_dpm_2_ancestral --seed 4186626796 --step 150\n",
      "\n",
      "a tweet by donald trump, 2022photograph of a breathtaking ocean suset, golden hour, beautiful lighting wow --height 256 --width 1024 --steps 150 --cfg_scale 9 --sampler ddim --seed 2568911274 --step 50 --h 1024\n",
      "\n",
      "worm's eye view of New Yorkphotograph of real life toriel at the beach chilling with his friend Dan --height 768 --width 1024 --steps 150 --cfg_scale 10 --sampler k_dpm_2_ancestral --seed 2568911274 --step 150 --h 1024\n",
      "\n",
      "a highly detailed warpfusion vector logo resembling fusion core in the shape of a kitty,photograph of a spherical actual Jigglypuff in its natural habitat, 200mm, by National Geographic by Marsel van Oosten, 200mm, what Piplup would look like if it were real --height 576 --width 768 --steps 150 --cfg_scale 7 --sampler k_dpm_2_ancestral --seed 2568911274 --step 150 --w 1920\n",
      "\n",
      "closeup portrait of betty boop, by kelly mckernan, by tom bagshaw, by david lynch, oil on canvas, impossible award winningphotograph of a hyperrealistic Elmo --height 640 --width 768 --steps 120 --cfg_scale 10 --sampler ddim --seed 2568911274 --step 50 --cfg 12\n",
      "\n",
      "worm's eye view of New Yorkphotograph from a center of a torus covered in eyes, michelangelo, keith thomas, peter mohrbacher, artstation, in the style of discord --height 1024 --width 512 --steps 150 --cfg_scale 9 --sampler ddim --seed 1122442211 --step 150 --h 1024\n"
     ]
    }
   ],
   "source": [
    "# The keyword version creates a number of forward and reverse parts\n",
    "# then mixes them. It will generate twice this number of prompts.\n",
    "num_mix_part=10 #@param {type:\"integer\"}\n",
    "\n",
    "# The max overlap with sentences in training prompts\n",
    "max_overlap = 0.6 #@param {type:\"number\"}\n",
    "\n",
    "# Required word in the prompt\n",
    "key_word = \"photograph\" #@param {type:\"string\"}\n",
    "\n",
    "# Substitution for the above word\n",
    "key_word_replacement = None #@param {type:\"string\"}\n",
    "\n",
    "# Set this value to make prompts based on a specific user\n",
    "user = None #@param {type:\"str\"}\n",
    "\n",
    "\n",
    "curr_markov_model, curr_rev_markov_model = get_markov_models(user)\n",
    "prompts = markov.make_markov_sentences_containing(to_generate, key_word,\n",
    "                                               curr_markov_model, curr_rev_markov_model, arg_selector,\n",
    "                                               key_word_replacement,\n",
    "                                               max_overlap=max_overlap)\n",
    "    \n",
    "print_spaced(prompts)"
   ]
  }
 ],
 "metadata": {
  "kernelspec": {
   "display_name": "Python 3 (ipykernel)",
   "language": "python",
   "name": "python3"
  },
  "language_info": {
   "codemirror_mode": {
    "name": "ipython",
    "version": 3
   },
   "file_extension": ".py",
   "mimetype": "text/x-python",
   "name": "python",
   "nbconvert_exporter": "python",
   "pygments_lexer": "ipython3",
   "version": "3.8.5"
  }
 },
 "nbformat": 4,
 "nbformat_minor": 5
}
