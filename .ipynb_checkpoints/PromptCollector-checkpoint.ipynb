{
 "cells": [
  {
   "cell_type": "code",
   "execution_count": 1,
   "id": "b5d0da53",
   "metadata": {},
   "outputs": [],
   "source": [
    "!pip install markovify"
   ]
  },
  {
   "cell_type": "code",
   "execution_count": null,
   "id": "6957f3af",
   "metadata": {},
   "outputs": [
    {
     "name": "stdout",
     "output_type": "stream",
     "text": [
      "Completed 0 finding 0 dreams latest at 2022-08-06 00:56:22.199204+00:00\n",
      "Completed 10000 finding 4701 dreams latest at 2022-08-05 06:04:23.802000+00:00\n",
      "Completed 20000 finding 9269 dreams latest at 2022-08-04 16:10:51.111000+00:00\n",
      "Completed 30000 finding 13240 dreams latest at 2022-08-03 20:41:53.093000+00:00\n",
      "Completed 40000 finding 17419 dreams latest at 2022-08-02 20:00:20.764000+00:00\n",
      "Completed 50000 finding 21897 dreams latest at 2022-08-01 04:33:22.450000+00:00\n",
      "Completed 60000 finding 26366 dreams latest at 2022-07-30 19:26:25.694000+00:00\n",
      "Completed 70000 finding 30689 dreams latest at 2022-07-29 05:00:14.072000+00:00\n",
      "Completed 80000 finding 34975 dreams latest at 2022-07-28 02:43:03.092000+00:00\n"
     ]
    }
   ],
   "source": [
    "from datetime import timedelta\n",
    "import promptcollection\n",
    "import prompts\n",
    "discord_auth_token = \"<<YOUR_TOKEN_HERE>>\"\n",
    "discord_auth_token = \"MjExMzgxNjY1NDgwNTcyOTI5.GsGSCD.U8xjpimMs9eZ4oQHpg7UoWQ8cO7MHIYqKWRKi4\"\n",
    "successful_dream_messages, user_dream_messages = promptcollection.collect_prompts(timedelta(weeks=4), discord_auth_token)\n",
    "print(f\"Found {len(successful_dream_messages)} prompts for {len(usr_dreams)} users\")"
   ]
  },
  {
   "cell_type": "code",
   "execution_count": null,
   "id": "0b5c5d90",
   "metadata": {},
   "outputs": [],
   "source": [
    "import prompts\n",
    "arg_val_cnt = defaultdict(lambda: defaultdict(int))\n",
    "\n",
    "for prompt in successful_dream_messages:\n",
    "    _, args = prompts.arg_prompt_split(prompt)\n",
    "    for key, val in args.items():\n",
    "        arg_val_cnt[key][val] += 1"
   ]
  },
  {
   "cell_type": "code",
   "execution_count": null,
   "id": "41b67543",
   "metadata": {},
   "outputs": [],
   "source": [
    "import markov\n",
    "\n",
    "markov_model, rev_markov_model = markov.get_markov_models(successful_dream_messages)"
   ]
  },
  {
   "cell_type": "code",
   "execution_count": null,
   "id": "4038385e",
   "metadata": {},
   "outputs": [],
   "source": [
    "import os\n",
    "import pickle\n",
    "out_dir = \"data\"\n",
    "\n",
    "\n",
    "save_data_file(markov_model, \"markov.pkl\")\n",
    "save_data_file(rev_markov_model, \"rev_markov.pkl\")\n",
    "save_data_file(dict(arg_val_cnt), \"arg_val_cnt.pkl\")\n",
    "save_data_file(user_dream_messages, \"prompts_by_user.pkl\")\n",
    "save_data_file(successful_dream_messages, \"dream_prompts.pkl\")"
   ]
  }
 ],
 "metadata": {
  "kernelspec": {
   "display_name": "Python 3 (ipykernel)",
   "language": "python",
   "name": "python3"
  },
  "language_info": {
   "codemirror_mode": {
    "name": "ipython",
    "version": 3
   },
   "file_extension": ".py",
   "mimetype": "text/x-python",
   "name": "python",
   "nbconvert_exporter": "python",
   "pygments_lexer": "ipython3",
   "version": "3.8.5"
  }
 },
 "nbformat": 4,
 "nbformat_minor": 5
}
