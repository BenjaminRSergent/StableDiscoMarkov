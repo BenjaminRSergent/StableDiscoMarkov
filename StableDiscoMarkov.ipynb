{
 "cells": [
  {
   "cell_type": "code",
   "execution_count": 13,
   "id": "501a7569",
   "metadata": {},
   "outputs": [
    {
     "name": "stdout",
     "output_type": "stream",
     "text": [
      "Requirement already satisfied: markovify in c:\\users\\benja\\anaconda3\\lib\\site-packages (0.9.4)\n",
      "Requirement already satisfied: pytz in c:\\users\\benja\\anaconda3\\lib\\site-packages (2020.1)\n",
      "Requirement already satisfied: unidecode in c:\\users\\benja\\anaconda3\\lib\\site-packages (from markovify) (1.3.4)\n"
     ]
    }
   ],
   "source": [
    "!pip install markovify pytz numpy"
   ]
  },
  {
   "cell_type": "code",
   "execution_count": 80,
   "id": "8c420487",
   "metadata": {},
   "outputs": [],
   "source": [
    "from typing import Dict, List\n",
    "\n",
    "import markovify\n",
    "\n",
    "import prompts\n",
    "import utils\n",
    "\n",
    "# List of all unique prompts from July 5th to the morning of August 5th\n",
    "dream_prompts: List[str] = utils.load_data_file(\"dream_prompts.pkl\") \n",
    "    \n",
    "# Markov models trained on the above\n",
    "full_markov_model: markovify.Text = utils.load_data_file(\"markov.pkl\")\n",
    "    \n",
    "# The reverse markov model predicts prompts backwards. \n",
    "# Making the forward and reverse models aboth create a sentences with a specific word allows joining them\n",
    "# to make sentences that have that word in the middle. Otherwise one can only make sentences starting with the word\n",
    "rev_full_markov_model: markovify.Text = utils.load_data_file(\"rev_markov.pkl\")\n",
    "    \n",
    "# The dict's keys are arguments eg: \"--width\". The values are other dicts.\n",
    "# The sub-dictionaries map the values it's parent argument may take to the number of times those values were used\n",
    "arg_val_cnt: Dict[str, Dict[str, int]] = utils.load_data_file(\"arg_val_cnt.pkl\")\n",
    "arg_selector = prompts.ArgSelector(arg_val_cnt, len(dream_prompts))        \n",
    "\n",
    "# A dictora\n",
    "prompts_by_user: Dict[str, List[prompts.UserPrompt]] = utils.load_data_file(\"prompts_by_user.pkl\")\n",
    "    \n",
    "username_to_models = {}"
   ]
  },
  {
   "cell_type": "code",
   "execution_count": 72,
   "id": "b3001d8d",
   "metadata": {},
   "outputs": [],
   "source": []
  },
  {
   "cell_type": "code",
   "execution_count": 76,
   "id": "398b1d77",
   "metadata": {},
   "outputs": [],
   "source": [
    "def get_markov_models(user):\n",
    "    if user is None:\n",
    "        return full_markov_model, rev_full_markov_model\n",
    "    else:\n",
    "        if user not in prompts_by_user:\n",
    "            raise Exception(f\"Not prompts exist for {user}\")\n",
    "        if user not in username_to_models:\n",
    "            user_prompt_text = utils.remove_none_and_dups([user_prompt.prompt for user_prompt in prompts_by_user[user]])\n",
    "            username_to_models[user] = markov.get_markov_models(user_prompt_text)\n",
    "        return username_to_models[user]\n",
    "    \n",
    "def print_spaced(sents):\n",
    "    print(\"\\n\\n\".join(sents))"
   ]
  },
  {
   "cell_type": "code",
   "execution_count": 78,
   "id": "aaa16691",
   "metadata": {},
   "outputs": [
    {
     "name": "stdout",
     "output_type": "stream",
     "text": [
      "beautiful realistic photograph of a horrifying eldrich monster in a forest featured in national geographic, Asher Brown Durand, thomas cole, evangelion --height 512 --width 704 --steps 150 --cfg_scale 12 --sampler k_lms --seed 1337 --step 150\n",
      "\n",
      "great white shark attack scarlett johnannson bleeding arm of scarlett johnannson featured in national geographic, Asher Brown Durand, thomas cole --height 576 --width 512 --steps 150 --cfg_scale 7 --sampler k_dpm_2_ancestral --seed 12345 --step 150\n",
      "\n",
      "beautiful ultradetailed distant shot painting photograph of an incredible upper back watercolor dungeons and dragons featured in national geographic blood biting Thomas Cole, Asher Brown Durand, thomas cole --height 512 --width 512 --steps 100 --cfg_scale 7 --sampler k_euler_ancestral --seed 12345 --step 150\n",
      "\n",
      "stranded exploration robot stuck on the ashy ocean floor near an island on a dead planet with dead fish, James Clyne, Joseph Cross, Asher Brown Durand, ArtStation --height 768 --width 1024 --steps 150 --cfg_scale 9 --sampler ddim --seed 2568911274 --step 50 --h 1024\n",
      "\n",
      "beautiful ultradetailed photograph of cultists worshipping a horrifying eldrich monster in a flaming forest featured in national geographic, Asher Brown Durand, thomas cole --height 512 --width 768 --steps 150 --cfg_scale 8 --sampler ddim --seed 12345 --step 150 --h 1024\n",
      "\n",
      "beautiful ultradetailed distant shot painting photograph of an incredible watercolor upper back tattoo of a dungeons and dragons featured in national geographic, Asher Brown Durand, thomas cole --height 768 --width 704 --steps 30 --cfg_scale 10 --sampler plms --seed 1610043699 --step 50\n",
      "\n",
      "huge shark attack scared scarlett johnannson bite arm bleeding arm of scarlett johnannson featured in national geographic blood biting Thomas Cole, Asher Brown Durand, thomas cole, evangelion --height 768 --width 704 --steps 150 --cfg_scale 5 --sampler k_dpm_2_ancestral --seed 3070512843 --step 50 --w 1920\n",
      "\n",
      "glowing torus donut shaped creature, many large wings emerging for the center of a torus covered in eyes, , keith thomas, peter mohrbacher --height 768 --width 512 --steps 150 --cfg_scale 8 --sampler ddim --seed 4095026058 --step 50\n",
      "\n",
      "beautiful ultradetailed photograph of horrifying eldrich monster in a forest by alphonse mucha, trending on artstation taken by Adam Ferguson, 35mm film, Lisa frank, Junji Ito --height 576 --width 768 --steps 150 --cfg_scale 7 --sampler k_dpm_2 --seed 1610043699 --step 150 --w 1920\n",
      "\n",
      "glowing torus donut shaped angel, many large wings emerging for the center of a wheel covered in eyes, keith thomas, peter mohrbacher, 8k smooth lines, intricate, ornate, artstation, evangelion --height 768 --width 1024 --steps 150 --cfg_scale 8 --sampler k_dpm_2_ancestral --seed 4186626796 --step 150 --cfg 12\n"
     ]
    }
   ],
   "source": [
    "import markov\n",
    "to_generate = 10 #@param {type:\"int\"}\n",
    "\n",
    "# The max overlap with sentences in training prompts\n",
    "max_overlap = 0.6 #@param {type:\"float\"}\n",
    "\n",
    "# Set this value to make prompts based on a specific user\n",
    "user = None #@param {type:\"str\"}\n",
    "\n",
    "curr_markov_model, _ = get_markov_models(user)\n",
    "prompts = markov.make_markov_sentences(to_generate, curr_markov_model, arg_selector, max_overlap=max_overlap)\n",
    "print_spaced(prompts)"
   ]
  },
  {
   "cell_type": "code",
   "execution_count": 74,
   "id": "d7c4f03e",
   "metadata": {},
   "outputs": [
    {
     "name": "stdout",
     "output_type": "stream",
     "text": [
      "a weird gross intelligent non-newtonian fluid bioluminescent alien creature from an extremely surrealistic DMT dimension by Jim Henson, quaint candy cottage, claymationphotograph from a center of an empty room with large windows, highly detailed, octane render, unreal engine, redshift, trending on artstation, terrifying atmosphere --height 1024 --width 768 --steps 150 --cfg_scale 10 --sampler k_dpm_2_ancestral --seed 2568911274 --step 150\n",
      "\n",
      "Rick and Morty animated series is beautiful. a very beautiful warpfusion vector logo resembling fusion core in the shape of a kitty,photograph of hydrocephalic mark zuckerberg as a love interest in a romance anime --height 512 --width 768 --steps 150 --cfg_scale 11 --sampler k_dpm_2_ancestral --seed 204525742 --step 50 --h 1024\n",
      "\n",
      "a tweet by donald trump, modern 2022photograph of a hyperrealistic Elmo --height 768 --width 512 --steps 70 --cfg_scale 6 --sampler ddim --seed 204525742 --step 150 --w 1920\n",
      "\n",
      "a cartoon illustration of albert einstein as the speaker of the house, CSPANphotograph of a a leviathan cyborg dragon roaring, by alphonse mucha, rendered in octane, dramatic action pose, --height 500 --width 768 --steps 150 --cfg_scale 6 --sampler k_dpm_2_ancestral --seed 204525742 --step 150\n",
      "\n",
      "a tweet by donald trump, 2022photograph of a a leviathan cyborg dragon roaring, by alphonse mucha, rendered in octane, dramatic action pose, --height 768 --width 1024 --steps 150 --cfg_scale 8 --sampler k_lms --seed 8 --step 50\n",
      "\n",
      "Rick and Morty animated series is beautiful. a very beautiful warpfusion vector logo resembling fusion core in the shape of a kitty,photograph of hydrocephalic mark zuckerberg as a love interest in a romance anime --height 576 --width 1024 --steps 150 --cfg_scale 1 --sampler k_lms --seed 910948301 --step 150\n",
      "\n",
      "a dark evil cat made of Opal,photograph of real life toriel at the beach chilling with his friend Dan --height 768 --width 768 --steps 30 --cfg_scale 12 --sampler k_dpm_2_ancestral --seed 2905893365 --step 150\n",
      "\n",
      "a weird gross intelligent non-newtonian fluid bioluminescent alien creature from an extremely surrealistic DMT dimension by Jim Henson, quaint candy cottage, claymationphotograph from a center of an empty room with large windows, highly detailed, octane render, unreal engine, redshift, trending on artstation, terrifying atmosphere --height 256 --width 512 --steps 70 --cfg_scale 10 --sampler k_DPM_2_Ancestral --seed 1337 --step 150 --cfg 12\n",
      "\n",
      "Last winter in McDonald's, by tom bagshaw, by Zinaida Serebriakova, highly detailed, cinematic lighting, oil on canvas, impossible award winningphotograph of a hyperrealistic Elmo --height 640 --width 768 --steps 150 --cfg_scale 5 --sampler k_lms --seed 4186626796 --step 50 --w 1920\n",
      "\n",
      "closeup portrait of betty boop, by kelly mckernan, by tom bagshaw, by david lynch, oil on canvas, impossible award winningphotograph of a hyperrealistic Elmo --height 768 --width 1024 --steps 150 --cfg_scale 10 --sampler k_lms --seed 4219640802 --step 50\n",
      "\n",
      "Last winter in McDonald's, by tom bagshaw, by Zinaida Serebriakova, highly detailed, cinematic lighting, oil on canvas, impossible award winningphotograph of a cyborg leviathan dragon made of opal made by opal, red --height 768 --width 512 --steps 150 --cfg_scale 6 --sampler ddim --seed 2568911274 --step 150 --w 1920\n",
      "\n",
      "a dark evil cat made of Opal,photograph from a center of a torus covered in eyes, michelangelo, keith thomas, peter mohrbacher, artstation, in the style of discord --height 768 --width 576 --steps 150 --cfg_scale 22 --sampler k_lms --seed 1 --step 150\n",
      "\n",
      "a highly detailed warpfusion vector logo resembling fusion core in the shape of a kitty,photograph of a cyborg leviathan dragon made of opal made by opal, red --height 384 --width 512 --steps 150 --cfg_scale 10 --sampler ddim --seed 1122442211 --step 150\n",
      "\n",
      "a cartoon illustration of albert einstein as the speaker of the house, CSPANphotograph of a spherical actual Jigglypuff in its natural habitat, 200mm, by National Geographic by Marsel van Oosten, 200mm, what Piplup would look like if it were real --height 768 --width 1024 --steps 150 --cfg_scale 7 --sampler ddim --seed 3169479969 --step 150\n",
      "\n",
      "a tweet by donald trump, modern 2022photograph of a breathtaking ocean suset, golden hour, beautiful lighting wow --height 768 --width 512 --steps 120 --cfg_scale 16 --sampler k_dpm_2_ancestral --seed 4186626796 --step 150\n",
      "\n",
      "a tweet by donald trump, 2022photograph of a breathtaking ocean suset, golden hour, beautiful lighting wow --height 256 --width 1024 --steps 150 --cfg_scale 9 --sampler ddim --seed 2568911274 --step 50 --h 1024\n",
      "\n",
      "worm's eye view of New Yorkphotograph of real life toriel at the beach chilling with his friend Dan --height 768 --width 1024 --steps 150 --cfg_scale 10 --sampler k_dpm_2_ancestral --seed 2568911274 --step 150 --h 1024\n",
      "\n",
      "a highly detailed warpfusion vector logo resembling fusion core in the shape of a kitty,photograph of a spherical actual Jigglypuff in its natural habitat, 200mm, by National Geographic by Marsel van Oosten, 200mm, what Piplup would look like if it were real --height 576 --width 768 --steps 150 --cfg_scale 7 --sampler k_dpm_2_ancestral --seed 2568911274 --step 150 --w 1920\n",
      "\n",
      "closeup portrait of betty boop, by kelly mckernan, by tom bagshaw, by david lynch, oil on canvas, impossible award winningphotograph of a hyperrealistic Elmo --height 640 --width 768 --steps 120 --cfg_scale 10 --sampler ddim --seed 2568911274 --step 50 --cfg 12\n",
      "\n",
      "worm's eye view of New Yorkphotograph from a center of a torus covered in eyes, michelangelo, keith thomas, peter mohrbacher, artstation, in the style of discord --height 1024 --width 512 --steps 150 --cfg_scale 9 --sampler ddim --seed 1122442211 --step 150 --h 1024\n"
     ]
    }
   ],
   "source": [
    "# The keyword version creates a number of forward and reverse parts\n",
    "# then mixes them. It will generate twice this number of prompts.\n",
    "num_mix_part=10 #@param {type:\"int\"}\n",
    "\n",
    "# The max overlap with sentences in training prompts\n",
    "max_overlap = 0.6 #@param {type:\"float\"}\n",
    "\n",
    "# Required word in the prompt\n",
    "key_word = \"photograph\" #@param {type:\"str\"}\n",
    "\n",
    "# Substitution for the above word\n",
    "key_word_replacement = None #@param {type:\"str\"}\n",
    "\n",
    "# Set this value to make prompts based on a specific user\n",
    "user = None #@param {type:\"str\"}\n",
    "\n",
    "\n",
    "curr_markov_model, curr_rev_markov_model = get_markov_models(user)\n",
    "prompts = markov.make_markov_sentences_containing(to_generate, key_word,\n",
    "                                               curr_markov_model, curr_rev_markov_model, arg_selector,\n",
    "                                               key_word_replacement,\n",
    "                                               max_overlap=max_overlap)\n",
    "    \n",
    "print_spaced(prompts)"
   ]
  }
 ],
 "metadata": {
  "kernelspec": {
   "display_name": "Python 3 (ipykernel)",
   "language": "python",
   "name": "python3"
  },
  "language_info": {
   "codemirror_mode": {
    "name": "ipython",
    "version": 3
   },
   "file_extension": ".py",
   "mimetype": "text/x-python",
   "name": "python",
   "nbconvert_exporter": "python",
   "pygments_lexer": "ipython3",
   "version": "3.8.5"
  }
 },
 "nbformat": 4,
 "nbformat_minor": 5
}
