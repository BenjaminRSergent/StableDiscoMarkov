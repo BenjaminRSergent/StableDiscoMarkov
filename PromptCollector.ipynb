{
 "cells": [
  {
   "cell_type": "code",
   "execution_count": 1,
   "id": "db4be04d",
   "metadata": {},
   "outputs": [],
   "source": [
    "!pip install markovify pytz numpy"
   ]
  },
  {
   "cell_type": "code",
   "execution_count": 125,
   "id": "a148c3c0",
   "metadata": {},
   "outputs": [
    {
     "name": "stdout",
     "output_type": "stream",
     "text": [
      "Completed 0 finding 0 dreams latest at 2022-08-06 01:26:09.526797+00:00\n",
      "Completed 10000 finding 4692 dreams latest at 2022-08-05 06:40:40.116000+00:00\n",
      "Completed 20000 finding 9284 dreams latest at 2022-08-04 16:43:53.063000+00:00\n",
      "Completed 30000 finding 13261 dreams latest at 2022-08-03 21:13:01.658000+00:00\n",
      "Completed 40000 finding 17471 dreams latest at 2022-08-02 21:05:18.654000+00:00\n",
      "Completed 50000 finding 21907 dreams latest at 2022-08-01 06:42:41.734000+00:00\n",
      "Completed 60000 finding 26377 dreams latest at 2022-07-30 20:11:51.879000+00:00\n",
      "Completed 70000 finding 30708 dreams latest at 2022-07-29 05:31:52.457000+00:00\n",
      "Completed 80000 finding 35003 dreams latest at 2022-07-28 03:17:49.185000+00:00\n",
      "Completed 90000 finding 39113 dreams latest at 2022-07-27 01:37:03.152000+00:00\n",
      "Completed 100000 finding 43360 dreams latest at 2022-07-25 21:12:43.517000+00:00\n",
      "Completed 110000 finding 47730 dreams latest at 2022-07-24 16:00:31.434000+00:00\n",
      "Completed 120000 finding 51891 dreams latest at 2022-07-22 23:03:46.477000+00:00\n",
      "Completed 130000 finding 56472 dreams latest at 2022-07-20 14:07:01.541000+00:00\n",
      "Completed 140000 finding 61116 dreams latest at 2022-07-15 18:16:30.728000+00:00\n",
      "Completed 150000 finding 65952 dreams latest at 2022-07-13 01:34:48.620000+00:00\n",
      "Completed 160000 finding 70685 dreams latest at 2022-07-11 18:26:18.828000+00:00\n",
      "Found 57591 prompts for 19 users\n"
     ]
    }
   ],
   "source": [
    "from datetime import timedelta\n",
    "import promptcollection\n",
    "import prompts\n",
    "discord_auth_token = \"<<YOUR_TOKEN_HERE>>\"\n",
    "successful_dream_messages, user_dream_messages = promptcollection.collect_prompts(timedelta(weeks=4), discord_auth_token)\n",
    "print(f\"Found {len(successful_dream_messages)} prompts for {len(usr_dreams)} users\")"
   ]
  },
  {
   "cell_type": "code",
   "execution_count": 126,
   "id": "4c647ad6",
   "metadata": {},
   "outputs": [],
   "source": [
    "import prompts\n",
    "arg_val_cnt = defaultdict(lambda: defaultdict(int))\n",
    "\n",
    "for prompt in successful_dream_messages:\n",
    "    _, args = prompts.arg_prompt_split(prompt)\n",
    "    for key, val in args.items():\n",
    "        arg_val_cnt[key][val] += 1"
   ]
  },
  {
   "cell_type": "code",
   "execution_count": 142,
   "id": "f0f66bdf",
   "metadata": {},
   "outputs": [],
   "source": [
    "import markov\n",
    "\n",
    "markov_model, rev_markov_model = markov.get_markov_models(successful_dream_messages)"
   ]
  },
  {
   "cell_type": "code",
   "execution_count": 138,
   "id": "d1523656",
   "metadata": {},
   "outputs": [],
   "source": [
    "import utils\n",
    "\n",
    "utils.save_data_file(markov_model, \"markov.pkl\")\n",
    "utils.save_data_file(rev_markov_model, \"rev_markov.pkl\")\n",
    "utils.save_data_file(dict(arg_val_cnt), \"arg_val_cnt.pkl\")\n",
    "utils.save_data_file(user_dream_messages, \"prompts_by_user.pkl\")\n",
    "utils.save_data_file(successful_dream_messages, \"dream_prompts.pkl\")"
   ]
  },
  {
   "cell_type": "code",
   "execution_count": null,
   "id": "8c4b2ee0",
   "metadata": {},
   "outputs": [],
   "source": []
  }
 ],
 "metadata": {
  "kernelspec": {
   "display_name": "Python 3 (ipykernel)",
   "language": "python",
   "name": "python3"
  },
  "language_info": {
   "codemirror_mode": {
    "name": "ipython",
    "version": 3
   },
   "file_extension": ".py",
   "mimetype": "text/x-python",
   "name": "python",
   "nbconvert_exporter": "python",
   "pygments_lexer": "ipython3",
   "version": "3.8.5"
  }
 },
 "nbformat": 4,
 "nbformat_minor": 5
}
